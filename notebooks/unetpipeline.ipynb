{
 "cells": [
  {
   "cell_type": "markdown",
   "metadata": {},
   "source": [
    "# Aim of this notebook\n",
    "\n",
    "Aim of this notebook is to develop a pipeline to experiment , plug and play with unets to get better accuracies at neuron finding task. This notebook also serves as a tutorial for how to get started with lovelace project3 and experiment neuron finding with unets. "
   ]
  },
  {
   "cell_type": "markdown",
   "metadata": {},
   "source": [
    "# The Plan\n",
    "1. create masks for unet \n",
    "2. create code to change back masks to regions. \n",
    "2. Create a working code for unet on one dataset. \n",
    "2. create pointers and functions for all tasks that will be different for cloud: eg data reading, storing images as np array and reading them, creating json. \n",
    "3. implement unet for 1 epoch and submit on autolab\n",
    "4. prepare GCP clusters by figuring out installations\n",
    "5. create specific functions for clusters.\n",
    "6. Run for one dataset on clusters and submit on autolab\n",
    "7. Run basic unet with least preprocessing on autolab\n",
    "8. Implement variance \n",
    "9. implement NMF\n",
    "10. Implement some hacky techniques.\n",
    "11. if time, understand unet and implement some variations in the structure of unet."
   ]
  },
  {
   "cell_type": "code",
   "execution_count": null,
   "metadata": {},
   "outputs": [],
   "source": [
    "import json\n",
    "import matplotlib.pyplot as plt\n",
    "import numpy as np\n",
    "from glob import glob\n",
    "from PIL import Image\n",
    "import matplotlib.image as mpimg"
   ]
  },
  {
   "cell_type": "code",
   "execution_count": null,
   "metadata": {},
   "outputs": [],
   "source": [
    "#example.py bundled with data. \n",
    "#C:\\Users\\Jayant\\Documents\\sem2\\dsp\\project3\\Team-lovelace-p3\\data\\neurofinder.00.02\n",
    "# load the images\n",
    "files = sorted(glob('../data/neurofinder.00.02/images/*.tiff'))\n",
    "imgs = np.array([plt.imread(f) for f in files])\n",
    "dims = imgs.shape[1:]\n",
    "\n",
    "# load the regions (training data only)\n",
    "with open('../data/neurofinder.00.02/regions/regions.json') as f:\n",
    "    regions = json.load(f)\n",
    "\n",
    "    "
   ]
  },
  {
   "cell_type": "code",
   "execution_count": null,
   "metadata": {},
   "outputs": [],
   "source": [
    "imgs.shape"
   ]
  },
  {
   "cell_type": "code",
   "execution_count": null,
   "metadata": {},
   "outputs": [],
   "source": [
    "#this converts regions to masks..how to do other way around?\n",
    "\n",
    "def tomask(coords):\n",
    "    mask = np.zeros(dims)\n",
    "    for indices in coords:\n",
    "        mask[indices[0]][indices[1]] = 1\n",
    "    #mask[zip(*coords)] = 1 # this is not working, anyways, it cant put 1 in every coordinate between a region. \n",
    "    return mask\n",
    "\n",
    "masks = np.array([tomask(s['coordinates']) for s in regions])\n",
    "mask_region=masks.sum(axis=0)\n",
    "mask_region[mask_region>1]=1\n",
    "\n",
    "# show the outputs\n",
    "plt.figure()\n",
    "plt.subplot(1, 2, 1)\n",
    "plt.imshow(imgs[1000,:,:])\n",
    "plt.subplot(1, 2, 2)\n",
    "plt.imshow(masks.sum(axis=0))\n",
    "plt.show()\n",
    "np.unique(mask_region)"
   ]
  },
  {
   "cell_type": "code",
   "execution_count": null,
   "metadata": {},
   "outputs": [],
   "source": [
    "def masks_to_regions(masks): \n",
    "    \"\"\"\n",
    "    Mask is a numpy array with 512*512 dimensions. One mask is created by summing all predictions from 3080 images' mask\n",
    "    that are output of a unet model.\n",
    "     The format of regions is :- \n",
    "    [\n",
    "    {\"dataset\": \"00.01.test\",\n",
    "    \"regions\":\n",
    "    [\n",
    "    {\"coordinates\": [ [0, 0], [0, 1] ]},\n",
    "    {\"coordinates\": [ [10, 12], [14, 17] ]}\n",
    "    ]\n",
    "    }\n",
    "    ]\n",
    "    Now THE PROBLEM is how to create regions?? Two steps :- first find if masks predictions are adjacent or not.. if not c\n",
    "    create new region and enter its coordinates..\n",
    "    \"\"\"\n",
    "    #mask=masks.sum(axis=0)\n",
    "    m,n=mask.shape\n",
    "    if(m!=512 and n!=512):\n",
    "        raise Exception(\"Mask dimensions are wrong, check your logic.\")\n",
    "    dict_regions=[]\n",
    "            \n",
    "            "
   ]
  },
  {
   "cell_type": "code",
   "execution_count": null,
   "metadata": {},
   "outputs": [],
   "source": [
    "masks.shape"
   ]
  },
  {
   "cell_type": "code",
   "execution_count": null,
   "metadata": {},
   "outputs": [],
   "source": [
    "from collections import namedtuple\n",
    "from functools import reduce\n",
    "Point = namedtuple('Point', 'x y')\n",
    "\n",
    "def points_adjoin(p1, p2):\n",
    "    # to accept diagonal adjacency, use this form\n",
    "    #return -1 <= p1.x-p2.x <= 1 and -1 <= p1.y-p2.y <= 1\n",
    "    return (-1 <= p1.x-p2.x <= 1 and p1.y == p2.y or\n",
    "             p1.x == p2.x and -1 <= p1.y-p2.y <= 1)\n",
    "\n",
    "def adjoins(pts, pt):\n",
    "    return any(points_adjoin(p,pt) for p in pts)\n",
    "\n",
    "def locate_regions(datastring):\n",
    "    data = map(list, datastring.splitlines())\n",
    "    regions = []\n",
    "    datapts = [(Point(x,y) )\n",
    "                for y,row in enumerate(data) \n",
    "                    for x,value in enumerate(row) if value=='1']\n",
    "    for dp in datapts:\n",
    "        # find all adjoining regions\n",
    "        adjregs = [r for r in regions if adjoins(r,dp)]\n",
    "        if adjregs:\n",
    "            adjregs[0].add(dp)\n",
    "            if len(adjregs) > 1:\n",
    "                # joining more than one reg, merge\n",
    "                regions[:] = [r for r in regions if r not in adjregs]\n",
    "                regions.append(reduce(set.union, adjregs))\n",
    "        else:\n",
    "            # not adjoining any, start a new region\n",
    "            regions.append(set([dp]))\n",
    "    return regions\n",
    "\n",
    "def region_index(regs, p):\n",
    "    return next((i for i,reg in enumerate(regs) if p in reg), -1)"
   ]
  },
  {
   "cell_type": "code",
   "execution_count": null,
   "metadata": {},
   "outputs": [],
   "source": [
    "m,n=mask_region.shape\n",
    "data=\"\"\n",
    "for i in range(0,m):\n",
    "    for j in range(0,n):\n",
    "        data=data+str(int(mask_region[i][j]))\n",
    "    data=data+\"\\n\"    \n",
    "regs = locate_regions(data)"
   ]
  },
  {
   "cell_type": "code",
   "execution_count": null,
   "metadata": {},
   "outputs": [],
   "source": [
    "regions_dict={}\n",
    "regions_dict[\"dataset\"]=\"neurofinder.00.02\"\n",
    "regions_list=[]\n",
    "dict_reg={}\n",
    "for region in regs:\n",
    "    reg_list=[]\n",
    "    for values in region: \n",
    "        reg_list.append([values[0],values[1]])\n",
    "    dict_reg[\"coordinates\"]=reg_list\n",
    "    regions_list.append(dict_reg)\n",
    "\n",
    "regions_dict[\"regions\"]=regions_list    "
   ]
  },
  {
   "cell_type": "code",
   "execution_count": null,
   "metadata": {},
   "outputs": [],
   "source": [
    "with open('submission.json', 'w') as f:\n",
    "    f.write(json.dumps(dict_reg))"
   ]
  },
  {
   "cell_type": "code",
   "execution_count": null,
   "metadata": {},
   "outputs": [],
   "source": [
    "#print(regions)"
   ]
  },
  {
   "cell_type": "code",
   "execution_count": null,
   "metadata": {},
   "outputs": [],
   "source": [
    "#print(regions_dict)"
   ]
  },
  {
   "cell_type": "code",
   "execution_count": null,
   "metadata": {},
   "outputs": [],
   "source": [
    "##this is a very noisy method...seems to give false regions and also does not detect many regions also...\n"
   ]
  },
  {
   "cell_type": "code",
   "execution_count": null,
   "metadata": {},
   "outputs": [],
   "source": [
    "from unet_model import unet"
   ]
  },
  {
   "cell_type": "code",
   "execution_count": null,
   "metadata": {},
   "outputs": [],
   "source": [
    "imgs.shape"
   ]
  },
  {
   "cell_type": "code",
   "execution_count": null,
   "metadata": {},
   "outputs": [],
   "source": [
    "mask_region.shape\n",
    "new_mask=add_axis(mask_region)\n",
    "new_mask=new_mask[np.newaxis,...]\n",
    "new_mask.shape\n",
    "m,n,o,p=image_array.shape"
   ]
  },
  {
   "cell_type": "code",
   "execution_count": null,
   "metadata": {},
   "outputs": [],
   "source": [
    "maskss= np.ndarray(shape=(m,n,o,p))\n",
    "for i in range(m):\n",
    "    maskss[i]=new_mask\n",
    "                 \n",
    "maskss.shape                 "
   ]
  },
  {
   "cell_type": "code",
   "execution_count": null,
   "metadata": {},
   "outputs": [],
   "source": [
    "np.save(\"train.npy\",image_array)\n",
    "np.save(\"masks.npy\",maskss)"
   ]
  },
  {
   "cell_type": "code",
   "execution_count": null,
   "metadata": {},
   "outputs": [],
   "source": [
    "def train_model(train_nparray,masks): \n",
    "    \"\"\" \n",
    "    \n",
    "    \"\"\"\n",
    "    model = unet()\n",
    "    #Fitting and saving model\n",
    "    model.fit(train_nparray, masks, batch_size=1, epochs=20, verbose=1, shuffle=True)\n",
    "    model.save(\"model.h5\")\n",
    "    return None\n",
    "def add_axis(img):\n",
    "    \"\"\"use it for adding one axis ie the 1 dimensio in the end..\"\"\"\n",
    "    return img[...,np.newaxis]\n",
    "#image_array=add_axis(imgs)"
   ]
  },
  {
   "cell_type": "code",
   "execution_count": null,
   "metadata": {},
   "outputs": [],
   "source": [
    "\n",
    "image_array=np.load(\"train.npy\")\n",
    "maskss=np.load(\"masks.npy\")\n",
    "\n",
    "train_model(image_array,maskss)"
   ]
  },
  {
   "cell_type": "code",
   "execution_count": null,
   "metadata": {},
   "outputs": [],
   "source": []
  }
 ],
 "metadata": {
  "kernelspec": {
   "display_name": "Python 3",
   "language": "python",
   "name": "python3"
  },
  "language_info": {
   "codemirror_mode": {
    "name": "ipython",
    "version": 3
   },
   "file_extension": ".py",
   "mimetype": "text/x-python",
   "name": "python",
   "nbconvert_exporter": "python",
   "pygments_lexer": "ipython3",
   "version": "3.6.8"
  }
 },
 "nbformat": 4,
 "nbformat_minor": 2
}
