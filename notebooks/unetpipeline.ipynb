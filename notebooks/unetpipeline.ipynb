{
 "cells": [
  {
   "cell_type": "code",
   "execution_count": 23,
   "metadata": {},
   "outputs": [],
   "source": [
    "import json\n",
    "import matplotlib.pyplot as plt\n",
    "import numpy as np\n",
    "from glob import glob\n",
    "from PIL import Image\n",
    "import matplotlib.image as mpimg\n",
    "import os\n",
    "import cv2"
   ]
  },
  {
   "cell_type": "code",
   "execution_count": 10,
   "metadata": {},
   "outputs": [
    {
     "name": "stdout",
     "output_type": "stream",
     "text": [
      "['neurofinder.00.02']\n",
      "['neurofinder.00.00.test', 'neurofinder.00.01.test', 'neurofinder.01.00.test', 'neurofinder.01.01.test', 'neurofinder.02.00.test', 'neurofinder.02.01.test', 'neurofinder.03.00.test', 'neurofinder.04.00.test', 'neurofinder.04.01.test']\n"
     ]
    }
   ],
   "source": [
    "filenames=os.listdir(\"../data\")\n",
    "\n",
    "train_names=[files if files[-4:]!='test' else None for files in filenames]\n",
    "train_names=[train_name for train_name in train_names if train_name]\n",
    "print(train_names)\n",
    "\n",
    "test_names=[files if files[-4:]==\"test\" else None for files in filenames]\n",
    "test_names=[test_name for test_name in test_names if test_name]\n",
    "print(test_names)"
   ]
  },
  {
   "cell_type": "code",
   "execution_count": 35,
   "metadata": {},
   "outputs": [
    {
     "name": "stdout",
     "output_type": "stream",
     "text": [
      "['../data/neurofinder.00.02/regions/regions.json']\n"
     ]
    }
   ],
   "source": [
    "#example.py bundled with data. \n",
    "#C:\\Users\\Jayant\\Documents\\sem2\\dsp\\project3\\Team-lovelace-p3\\data\\neurofinder.00.02\n",
    "# load the images\n",
    "\n",
    "train_image_path=[]\n",
    "test_image_path=[]\n",
    "train_region_path=[]\n",
    "\n",
    "for name in train_names: \n",
    "    train_image_path.append('../data/'+name+'/images/*.tiff')\n",
    "\n",
    "for name in test_names: \n",
    "    test_image_path.append('../data/'+name+'/images/*.tiff')\n",
    "    \n",
    "for name in train_names:\n",
    "    train_region_path.append('../data/'+name+'/regions/regions.json')\n",
    "    \n",
    "print(train_region_path)"
   ]
  },
  {
   "cell_type": "code",
   "execution_count": 41,
   "metadata": {},
   "outputs": [
    {
     "name": "stdout",
     "output_type": "stream",
     "text": [
      "(3080, 512, 512)\n",
      "1\n"
     ]
    }
   ],
   "source": [
    "def get_train_image_list(train_image_path):\n",
    "    \n",
    "    train_images=[]   \n",
    "    for path in train_image_path:\n",
    "        file=sorted(glob(path))\n",
    "    \n",
    "        image=np.array([cv2.resize(plt.imread(f),(512,512), interpolation = cv2.INTER_CUBIC) for f in file])\n",
    "        train_images.append(image)\n",
    "    return train_images\n",
    "\n",
    "#dims = imgs.shape[1:]\n",
    "\n",
    "\n",
    "def tomask(coords):\n",
    "    dims=(512,512)\n",
    "    mask = np.zeros(dims)\n",
    "    for indices in coords:\n",
    "        mask[indices[0]][indices[1]] = 1\n",
    "    #mask[zip(*coords)] = 1 # this is not working, anyways, it cant put 1 in every coordinate between a region. \n",
    "    return mask\n",
    "\n",
    "\n",
    "def region_to_mask(train_region_path):\n",
    "    mask_list=[]\n",
    "    for name in train_region_path:\n",
    "        regions=[]\n",
    "    # load the regions (training data only)\n",
    "        with open(name) as f:\n",
    "            regions.extend(json.load(f))\n",
    "        masks = np.array([tomask(s['coordinates']) for s in regions])\n",
    "        mask_region=masks.sum(axis=0)\n",
    "        mask_region[mask_region>1]=1\n",
    "        mask_list.append(mask_region)\n",
    "    return mask_list\n",
    "    \n",
    "train_images_list=get_train_image_list(train_image_path)\n",
    "mask_list=region_to_mask(train_region_path)\n",
    "print(train_images_list[0].shape)\n",
    "print(len(mask_list))"
   ]
  },
  {
   "cell_type": "code",
   "execution_count": null,
   "metadata": {},
   "outputs": [],
   "source": [
    "def create_train_nparray(train_images):\n",
    "    train_nparray=np.ndarray(shape=(len(train_images), 512, 512, 1),\n",
    "                     dtype=np.float32)\n",
    "    for i in range(0,len(train_images)):\n",
    "        train_nparray[i]=train_images[i]\n",
    "    #np.save(\"train.npy\",train_nparray)\n",
    "    return train_nparray\n",
    "    "
   ]
  },
  {
   "cell_type": "code",
   "execution_count": null,
   "metadata": {},
   "outputs": [],
   "source": [
    "#this converts regions to masks..how to do other way around?\n",
    "\n",
    "def tomask(coords):\n",
    "    mask = np.zeros(dims)\n",
    "    for indices in coords:\n",
    "        mask[indices[0]][indices[1]] = 1\n",
    "    #mask[zip(*coords)] = 1 # this is not working, anyways, it cant put 1 in every coordinate between a region. \n",
    "    return mask\n",
    "\n",
    "masks = np.array([tomask(s['coordinates']) for s in regions])\n",
    "mask_region=masks.sum(axis=0)\n",
    "mask_region[mask_region>1]=1\n",
    "\n",
    "# show the outputs\n",
    "plt.figure()\n",
    "plt.subplot(1, 2, 1)\n",
    "plt.imshow(imgs[1000,:,:])\n",
    "plt.subplot(1, 2, 2)\n",
    "plt.imshow(masks.sum(axis=0))\n",
    "plt.show()\n",
    "np.unique(mask_region)"
   ]
  },
  {
   "cell_type": "code",
   "execution_count": null,
   "metadata": {},
   "outputs": [],
   "source": [
    "from collections import namedtuple\n",
    "from functools import reduce\n",
    "Point = namedtuple('Point', 'x y')\n",
    "\n",
    "def points_adjoin(p1, p2):\n",
    "    # to accept diagonal adjacency, use this form\n",
    "    #return -1 <= p1.x-p2.x <= 1 and -1 <= p1.y-p2.y <= 1\n",
    "    return (-1 <= p1.x-p2.x <= 1 and p1.y == p2.y or\n",
    "             p1.x == p2.x and -1 <= p1.y-p2.y <= 1)\n",
    "\n",
    "def adjoins(pts, pt):\n",
    "    return any(points_adjoin(p,pt) for p in pts)\n",
    "\n",
    "def locate_regions(datastring):\n",
    "    data = map(list, datastring.splitlines())\n",
    "    regions = []\n",
    "    datapts = [(Point(x,y) )\n",
    "                for y,row in enumerate(data) \n",
    "                    for x,value in enumerate(row) if value=='1']\n",
    "    for dp in datapts:\n",
    "        # find all adjoining regions\n",
    "        adjregs = [r for r in regions if adjoins(r,dp)]\n",
    "        if adjregs:\n",
    "            adjregs[0].add(dp)\n",
    "            if len(adjregs) > 1:\n",
    "                # joining more than one reg, merge\n",
    "                regions[:] = [r for r in regions if r not in adjregs]\n",
    "                regions.append(reduce(set.union, adjregs))\n",
    "        else:\n",
    "            # not adjoining any, start a new region\n",
    "            regions.append(set([dp]))\n",
    "    return regions\n",
    "\n",
    "def region_index(regs, p):\n",
    "    return next((i for i,reg in enumerate(regs) if p in reg), -1)"
   ]
  },
  {
   "cell_type": "code",
   "execution_count": null,
   "metadata": {},
   "outputs": [],
   "source": [
    "def masks_to_regions(masks,datasetname): \n",
    "    \"\"\"\n",
    "    Mask is a numpy array with 512*512 dimensions. One mask is created by summing all predictions from 3080 images' mask\n",
    "    that are output of a unet model.\n",
    "     The format of regions is :- \n",
    "    [\n",
    "    {\"dataset\": \"00.01.test\",\n",
    "    \"regions\":\n",
    "    [\n",
    "    {\"coordinates\": [ [0, 0], [0, 1] ]},\n",
    "    {\"coordinates\": [ [10, 12], [14, 17] ]}\n",
    "    ]\n",
    "    }\n",
    "    ]\n",
    "    Now THE PROBLEM is how to create regions?? Two steps :- first find if masks predictions are adjacent or not.. if not c\n",
    "    create new region and enter its coordinates..\n",
    "    \"\"\"\n",
    "    #mask=masks.sum(axis=0)\n",
    "    m,n=mask.shape\n",
    "    if(m!=512 and n!=512):\n",
    "        raise Exception(\"Mask dimensions are wrong, check your logic.\")\n",
    "    data=\"\"\n",
    "    for i in range(0,m):\n",
    "        for j in range(0,n):\n",
    "            data=data+str(int(mask_region[i][j]))\n",
    "            data=data+\"\\n\"    \n",
    "    regs = locate_regions(data)\n",
    "    dict_regions=[]\n",
    "    regions_dict={}\n",
    "    regions_dict[\"dataset\"]=\"neurofinder.00.02\"\n",
    "    regions_list=[]\n",
    "    dict_reg={}\n",
    "    for region in regs:\n",
    "        reg_list=[]\n",
    "        for values in region: \n",
    "            reg_list.append([values[0],values[1]])\n",
    "        dict_reg[\"coordinates\"]=reg_list\n",
    "        regions_list.append(dict_reg)\n",
    "\n",
    "    regions_dict[\"regions\"]=regions_list    \n",
    "            \n",
    "            "
   ]
  },
  {
   "cell_type": "code",
   "execution_count": null,
   "metadata": {},
   "outputs": [],
   "source": [
    "m,n=mask_region.shape\n",
    "data=\"\"\n",
    "for i in range(0,m):\n",
    "    for j in range(0,n):\n",
    "        data=data+str(int(mask_region[i][j]))\n",
    "    data=data+\"\\n\"    \n",
    "regs = locate_regions(data)"
   ]
  },
  {
   "cell_type": "code",
   "execution_count": null,
   "metadata": {},
   "outputs": [],
   "source": [
    "masks.shape"
   ]
  },
  {
   "cell_type": "code",
   "execution_count": null,
   "metadata": {},
   "outputs": [],
   "source": [
    "regions_dict={}\n",
    "regions_dict[\"dataset\"]=\"neurofinder.00.02\"\n",
    "regions_list=[]\n",
    "dict_reg={}\n",
    "for region in regs:\n",
    "    reg_list=[]\n",
    "    for values in region: \n",
    "        reg_list.append([values[0],values[1]])\n",
    "    dict_reg[\"coordinates\"]=reg_list\n",
    "    regions_list.append(dict_reg)\n",
    "\n",
    "regions_dict[\"regions\"]=regions_list    "
   ]
  },
  {
   "cell_type": "code",
   "execution_count": null,
   "metadata": {},
   "outputs": [],
   "source": [
    "with open('submission.json', 'w') as f:\n",
    "    f.write(json.dumps(dict_reg))"
   ]
  },
  {
   "cell_type": "code",
   "execution_count": null,
   "metadata": {},
   "outputs": [],
   "source": [
    "#print(regions)"
   ]
  },
  {
   "cell_type": "code",
   "execution_count": null,
   "metadata": {},
   "outputs": [],
   "source": [
    "#print(regions_dict)"
   ]
  },
  {
   "cell_type": "code",
   "execution_count": null,
   "metadata": {},
   "outputs": [],
   "source": [
    "##this is a very noisy method...seems to give false regions and also does not detect many regions also...\n"
   ]
  },
  {
   "cell_type": "code",
   "execution_count": null,
   "metadata": {},
   "outputs": [],
   "source": [
    "from unet_model import unet"
   ]
  },
  {
   "cell_type": "code",
   "execution_count": null,
   "metadata": {},
   "outputs": [],
   "source": [
    "imgs.shape"
   ]
  },
  {
   "cell_type": "code",
   "execution_count": null,
   "metadata": {},
   "outputs": [],
   "source": [
    "mask_region.shape\n",
    "new_mask=add_axis(mask_region)\n",
    "new_mask=new_mask[np.newaxis,...]\n",
    "new_mask.shape\n",
    "m,n,o,p=image_array.shape"
   ]
  },
  {
   "cell_type": "code",
   "execution_count": null,
   "metadata": {},
   "outputs": [],
   "source": [
    "maskss= np.ndarray(shape=(m,n,o,p))\n",
    "for i in range(m):\n",
    "    maskss[i]=new_mask\n",
    "                 \n",
    "maskss.shape                 "
   ]
  },
  {
   "cell_type": "code",
   "execution_count": null,
   "metadata": {},
   "outputs": [],
   "source": [
    "np.save(\"train.npy\",image_array)\n",
    "np.save(\"masks.npy\",maskss)"
   ]
  },
  {
   "cell_type": "code",
   "execution_count": null,
   "metadata": {},
   "outputs": [],
   "source": [
    "def train_model(train_nparray,masks): \n",
    "    \"\"\" \n",
    "    \n",
    "    \"\"\"\n",
    "    model = unet()\n",
    "    #Fitting and saving model\n",
    "    model.fit(train_nparray, masks, batch_size=1, epochs=20, verbose=1, shuffle=True)\n",
    "    model.save(\"model.h5\")\n",
    "    return None\n",
    "def add_axis(img):\n",
    "    \"\"\"use it for adding one axis ie the 1 dimensio in the end..\"\"\"\n",
    "    return img[...,np.newaxis]\n",
    "#image_array=add_axis(imgs)"
   ]
  },
  {
   "cell_type": "code",
   "execution_count": null,
   "metadata": {},
   "outputs": [],
   "source": [
    "\n",
    "image_array=np.load(\"train.npy\")\n",
    "maskss=np.load(\"masks.npy\")\n",
    "\n",
    "train_model(image_array,maskss)"
   ]
  },
  {
   "cell_type": "code",
   "execution_count": null,
   "metadata": {},
   "outputs": [],
   "source": []
  }
 ],
 "metadata": {
  "kernelspec": {
   "display_name": "Python 3",
   "language": "python",
   "name": "python3"
  },
  "language_info": {
   "codemirror_mode": {
    "name": "ipython",
    "version": 3
   },
   "file_extension": ".py",
   "mimetype": "text/x-python",
   "name": "python",
   "nbconvert_exporter": "python",
   "pygments_lexer": "ipython3",
   "version": "3.6.8"
  }
 },
 "nbformat": 4,
 "nbformat_minor": 2
}
