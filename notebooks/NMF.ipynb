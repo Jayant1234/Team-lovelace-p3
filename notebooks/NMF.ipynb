{
 "cells": [
  {
   "cell_type": "code",
   "execution_count": 2,
   "metadata": {},
   "outputs": [],
   "source": [
    "\"\"\"source and reference = https://github.com/thunder-project/thunder-extraction\n",
    "\"\"\" \n",
    "import json\n",
    "import thunder as td\n",
    "from extraction import NMF\n"
   ]
  },
  {
   "cell_type": "code",
   "execution_count": 4,
   "metadata": {},
   "outputs": [
    {
     "name": "stdout",
     "output_type": "stream",
     "text": [
      "processing dataset: 00.00.test\n",
      "loading\n",
      "analyzing\n",
      "found 149 regions\n",
      "processing dataset: 00.01.test\n",
      "loading\n",
      "analyzing\n",
      "found 181 regions\n",
      "processing dataset: 01.00.test\n",
      "loading\n",
      "analyzing\n",
      "found 201 regions\n",
      "processing dataset: 01.01.test\n",
      "loading\n",
      "analyzing\n",
      "found 134 regions\n",
      "processing dataset: 02.00.test\n",
      "loading\n",
      "analyzing\n",
      "found 167 regions\n",
      "processing dataset: 02.01.test\n",
      "loading\n",
      "analyzing\n",
      "found 205 regions\n",
      "processing dataset: 03.00.test\n",
      "loading\n",
      "analyzing\n",
      "found 176 regions\n",
      "processing dataset: 04.00.test\n",
      "loading\n",
      "analyzing\n",
      "found 231 regions\n",
      "processing dataset: 04.01.test\n",
      "loading\n",
      "analyzing\n",
      "found 188 regions\n",
      "writing results\n"
     ]
    }
   ],
   "source": [
    "\n",
    "datasets = [\n",
    "  '00.00.test','00.01.test','01.00.test',\n",
    "  '01.01.test','02.00.test','02.01.test',\n",
    "  '03.00.test','04.00.test','04.01.test'\n",
    "]\n",
    "\n",
    "submission = []\n",
    "\n",
    "for dataset in datasets:\n",
    "    print('processing dataset: %s' % dataset)\n",
    "    print('loading')\n",
    "    path = '../data/test/neurofinder.' + dataset\n",
    "    data = td.images.fromtif(path + '/images', ext='tiff')\n",
    "    print('analyzing')\n",
    "    algorithm = NMF(k=5, percentile=99, max_iter=50, overlap=0.1)\n",
    "    model = algorithm.fit(data, chunk_size=(50,50), padding=(25,25))\n",
    "    merged = model.merge(0.1)\n",
    "    print('found %g regions' % merged.regions.count)\n",
    "    regions = [{'coordinates': region.coordinates.tolist()} for region in merged.regions]\n",
    "    result = {'dataset': dataset, 'regions': regions}\n",
    "    submission.append(result)\n",
    "\n",
    "print('writing results')\n",
    "with open('submission.json', 'w') as f:\n",
    "    f.write(json.dumps(submission))"
   ]
  },
  {
   "cell_type": "code",
   "execution_count": null,
   "metadata": {},
   "outputs": [],
   "source": []
  },
  {
   "cell_type": "code",
   "execution_count": null,
   "metadata": {},
   "outputs": [],
   "source": []
  }
 ],
 "metadata": {
  "kernelspec": {
   "display_name": "Python 3",
   "language": "python",
   "name": "python3"
  },
  "language_info": {
   "codemirror_mode": {
    "name": "ipython",
    "version": 3
   },
   "file_extension": ".py",
   "mimetype": "text/x-python",
   "name": "python",
   "nbconvert_exporter": "python",
   "pygments_lexer": "ipython3",
   "version": "3.6.8"
  }
 },
 "nbformat": 4,
 "nbformat_minor": 2
}
